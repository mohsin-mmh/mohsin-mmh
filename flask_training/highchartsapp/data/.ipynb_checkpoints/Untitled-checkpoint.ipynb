{
 "cells": [
  {
   "cell_type": "code",
   "execution_count": 2,
   "id": "756addc3",
   "metadata": {},
   "outputs": [],
   "source": [
    "import pandas as pd\n",
    "import plotly.graph_objs as go\n",
    "import json as js\n",
    "\n",
    "def cleandata(dataset, keepcolumns = ['Country Name', '1990', '2015'], value_variables = ['1990', '2015']):\n",
    "    \"\"\"Clean world bank data for a visualizaiton dashboard\n",
    "\n",
    "    Keeps data range of dates in keep_columns variable and data for the top 10 economies\n",
    "    Reorients the columns into a year, country and value\n",
    "    Saves the results to a csv file\n",
    "\n",
    "    Args:\n",
    "        dataset (str): name of the csv data file\n",
    "\n",
    "    Returns:\n",
    "        None\n",
    "\n",
    "    \"\"\"    \n",
    "    df = pd.read_csv(dataset, skiprows=4)\n",
    "\n",
    "    # Keep only the columns of interest (years and country name)\n",
    "    df = df[keepcolumns]\n",
    "\n",
    "    top10country = ['United States', 'China', 'Japan', 'Germany', 'United Kingdom', 'India', 'France', 'Brazil', 'Italy', 'Canada']\n",
    "    df = df[df['Country Name'].isin(top10country)]\n",
    "\n",
    "    # melt year columns  and convert year to date time\n",
    "    df_melt = df.melt(id_vars='Country Name', value_vars = value_variables)\n",
    "    df_melt.columns = ['country','year', 'variable']\n",
    "    df_melt['year'] = df_melt['year'].astype('datetime64[ns]').dt.year\n",
    "\n",
    "    # output clean csv file\n",
    "    return df_melt\n"
   ]
  },
  {
   "cell_type": "code",
   "execution_count": 73,
   "id": "9507cd59",
   "metadata": {},
   "outputs": [],
   "source": [
    "import pandas as pd\n",
    "import json as js\n",
    "import plotly.express as px\n",
    "\n",
    "def graph2():\n",
    "    df = pd.read_csv('API_AG.LND.ARBL.HA.PC_DS2_en_csv_v2.csv', skiprows=4)\n",
    "\n",
    "    # Filter for 1990 and 2015, top 10 economies\n",
    "    df = df[['Country Name','1990', '2015']]\n",
    "    countrylist = ['United States', 'China', 'Japan', 'Germany', 'United Kingdom', 'India', 'France', 'Brazil', 'Italy', 'Canada', 'Pakistan']\n",
    "    df = df[df['Country Name'].isin(countrylist)]\n",
    "    \n",
    "    # melt year columns  and convert year to date time\n",
    "    df_melt = df.melt(id_vars='Country Name', value_vars = ['1990', '2015'])\n",
    "    df_melt.columns = ['country','year', 'hectaresarablelandperperson']\n",
    "    df_melt['year'] = df_melt['year'].astype('datetime64[ns]').dt.year    \n",
    "\n",
    "\n",
    "    # prepare data into x, y lists for plotting\n",
    "    df_melt.sort_values('hectaresarablelandperperson', ascending=False, inplace=True)\n",
    "    #df_melt.columns = ['year', 'percentrural']\n",
    "    #df_melt = df_melt.to_json(orient='records')\n",
    "    #json_df = js.loads(df_melt)\n",
    "    return df_melt\n"
   ]
  },
  {
   "cell_type": "code",
   "execution_count": 75,
   "id": "ae386ac1",
   "metadata": {},
   "outputs": [
    {
     "data": {
      "application/vnd.plotly.v1+json": {
       "config": {
        "plotlyServerURL": "https://plot.ly"
       },
       "data": [
        {
         "customdata": [
          [
           "Canada"
          ],
          [
           "Canada"
          ]
         ],
         "hovertemplate": "country=%{customdata[0]}<br>year=%{x}<br>hectaresarablelandperperson=%{marker.size}<extra></extra>",
         "legendgroup": "Canada",
         "marker": {
          "color": "#636efa",
          "size": [
           1.63736461444353,
           1.21695065037721
          ],
          "sizemode": "area",
          "sizeref": 0.004093411536108826,
          "symbol": "circle"
         },
         "mode": "markers",
         "name": "Canada",
         "orientation": "v",
         "showlegend": true,
         "type": "scatter",
         "x": [
          1990,
          2015
         ],
         "xaxis": "x",
         "y": [
          1.63736461444353,
          1.21695065037721
         ],
         "yaxis": "y"
        },
        {
         "customdata": [
          [
           "United States"
          ],
          [
           "United States"
          ]
         ],
         "hovertemplate": "country=%{customdata[0]}<br>year=%{x}<br>hectaresarablelandperperson=%{marker.size}<extra></extra>",
         "legendgroup": "United States",
         "marker": {
          "color": "#EF553B",
          "size": [
           0.743825689139222,
           0.474490821838453
          ],
          "sizemode": "area",
          "sizeref": 0.004093411536108826,
          "symbol": "circle"
         },
         "mode": "markers",
         "name": "United States",
         "orientation": "v",
         "showlegend": true,
         "type": "scatter",
         "x": [
          1990,
          2015
         ],
         "xaxis": "x",
         "y": [
          0.743825689139222,
          0.474490821838453
         ],
         "yaxis": "y"
        },
        {
         "customdata": [
          [
           "Brazil"
          ],
          [
           "Brazil"
          ]
         ],
         "hovertemplate": "country=%{customdata[0]}<br>year=%{x}<br>hectaresarablelandperperson=%{marker.size}<extra></extra>",
         "legendgroup": "Brazil",
         "marker": {
          "color": "#00cc96",
          "size": [
           0.388503500847836,
           0.339338949567815
          ],
          "sizemode": "area",
          "sizeref": 0.004093411536108826,
          "symbol": "circle"
         },
         "mode": "markers",
         "name": "Brazil",
         "orientation": "v",
         "showlegend": true,
         "type": "scatter",
         "x": [
          2015,
          1990
         ],
         "xaxis": "x",
         "y": [
          0.388503500847836,
          0.339338949567815
         ],
         "yaxis": "y"
        },
        {
         "customdata": [
          [
           "France"
          ],
          [
           "France"
          ]
         ],
         "hovertemplate": "country=%{customdata[0]}<br>year=%{x}<br>hectaresarablelandperperson=%{marker.size}<extra></extra>",
         "legendgroup": "France",
         "marker": {
          "color": "#ab63fa",
          "size": [
           0.3039471289773,
           0.277357726039785
          ],
          "sizemode": "area",
          "sizeref": 0.004093411536108826,
          "symbol": "circle"
         },
         "mode": "markers",
         "name": "France",
         "orientation": "v",
         "showlegend": true,
         "type": "scatter",
         "x": [
          1990,
          2015
         ],
         "xaxis": "x",
         "y": [
          0.3039471289773,
          0.277357726039785
         ],
         "yaxis": "y"
        },
        {
         "customdata": [
          [
           "Pakistan"
          ],
          [
           "Pakistan"
          ]
         ],
         "hovertemplate": "country=%{customdata[0]}<br>year=%{x}<br>hectaresarablelandperperson=%{marker.size}<extra></extra>",
         "legendgroup": "Pakistan",
         "marker": {
          "color": "#FFA15A",
          "size": [
           0.276285131233208,
           0.160734594694017
          ],
          "sizemode": "area",
          "sizeref": 0.004093411536108826,
          "symbol": "circle"
         },
         "mode": "markers",
         "name": "Pakistan",
         "orientation": "v",
         "showlegend": true,
         "type": "scatter",
         "x": [
          1990,
          2015
         ],
         "xaxis": "x",
         "y": [
          0.276285131233208,
          0.160734594694017
         ],
         "yaxis": "y"
        },
        {
         "customdata": [
          [
           "India"
          ],
          [
           "India"
          ]
         ],
         "hovertemplate": "country=%{customdata[0]}<br>year=%{x}<br>hectaresarablelandperperson=%{marker.size}<extra></extra>",
         "legendgroup": "India",
         "marker": {
          "color": "#19d3f3",
          "size": [
           0.187855086325376,
           0.119523718953133
          ],
          "sizemode": "area",
          "sizeref": 0.004093411536108826,
          "symbol": "circle"
         },
         "mode": "markers",
         "name": "India",
         "orientation": "v",
         "showlegend": true,
         "type": "scatter",
         "x": [
          1990,
          2015
         ],
         "xaxis": "x",
         "y": [
          0.187855086325376,
          0.119523718953133
         ],
         "yaxis": "y"
        },
        {
         "customdata": [
          [
           "Italy"
          ],
          [
           "Italy"
          ]
         ],
         "hovertemplate": "country=%{customdata[0]}<br>year=%{x}<br>hectaresarablelandperperson=%{marker.size}<extra></extra>",
         "legendgroup": "Italy",
         "marker": {
          "color": "#FF6692",
          "size": [
           0.1588878835471,
           0.108693178669027
          ],
          "sizemode": "area",
          "sizeref": 0.004093411536108826,
          "symbol": "circle"
         },
         "mode": "markers",
         "name": "Italy",
         "orientation": "v",
         "showlegend": true,
         "type": "scatter",
         "x": [
          1990,
          2015
         ],
         "xaxis": "x",
         "y": [
          0.1588878835471,
          0.108693178669027
         ],
         "yaxis": "y"
        },
        {
         "customdata": [
          [
           "Germany"
          ],
          [
           "Germany"
          ]
         ],
         "hovertemplate": "country=%{customdata[0]}<br>year=%{x}<br>hectaresarablelandperperson=%{marker.size}<extra></extra>",
         "legendgroup": "Germany",
         "marker": {
          "color": "#B6E880",
          "size": [
           0.150705571104433,
           0.145054371272668
          ],
          "sizemode": "area",
          "sizeref": 0.004093411536108826,
          "symbol": "circle"
         },
         "mode": "markers",
         "name": "Germany",
         "orientation": "v",
         "showlegend": true,
         "type": "scatter",
         "x": [
          1990,
          2015
         ],
         "xaxis": "x",
         "y": [
          0.150705571104433,
          0.145054371272668
         ],
         "yaxis": "y"
        },
        {
         "customdata": [
          [
           "United Kingdom"
          ],
          [
           "United Kingdom"
          ]
         ],
         "hovertemplate": "country=%{customdata[0]}<br>year=%{x}<br>hectaresarablelandperperson=%{marker.size}<extra></extra>",
         "legendgroup": "United Kingdom",
         "marker": {
          "color": "#FF97FF",
          "size": [
           0.115638063760453,
           0.0922939524460592
          ],
          "sizemode": "area",
          "sizeref": 0.004093411536108826,
          "symbol": "circle"
         },
         "mode": "markers",
         "name": "United Kingdom",
         "orientation": "v",
         "showlegend": true,
         "type": "scatter",
         "x": [
          1990,
          2015
         ],
         "xaxis": "x",
         "y": [
          0.115638063760453,
          0.0922939524460592
         ],
         "yaxis": "y"
        },
        {
         "customdata": [
          [
           "China"
          ],
          [
           "China"
          ]
         ],
         "hovertemplate": "country=%{customdata[0]}<br>year=%{x}<br>hectaresarablelandperperson=%{marker.size}<extra></extra>",
         "legendgroup": "China",
         "marker": {
          "color": "#FECB52",
          "size": [
           0.109057114038681,
           0.0867840317381602
          ],
          "sizemode": "area",
          "sizeref": 0.004093411536108826,
          "symbol": "circle"
         },
         "mode": "markers",
         "name": "China",
         "orientation": "v",
         "showlegend": true,
         "type": "scatter",
         "x": [
          1990,
          2015
         ],
         "xaxis": "x",
         "y": [
          0.109057114038681,
          0.0867840317381602
         ],
         "yaxis": "y"
        },
        {
         "customdata": [
          [
           "Japan"
          ],
          [
           "Japan"
          ]
         ],
         "hovertemplate": "country=%{customdata[0]}<br>year=%{x}<br>hectaresarablelandperperson=%{marker.size}<extra></extra>",
         "legendgroup": "Japan",
         "marker": {
          "color": "#636efa",
          "size": [
           0.0385957243578847,
           0.0330420556704761
          ],
          "sizemode": "area",
          "sizeref": 0.004093411536108826,
          "symbol": "circle"
         },
         "mode": "markers",
         "name": "Japan",
         "orientation": "v",
         "showlegend": true,
         "type": "scatter",
         "x": [
          1990,
          2015
         ],
         "xaxis": "x",
         "y": [
          0.0385957243578847,
          0.0330420556704761
         ],
         "yaxis": "y"
        }
       ],
       "layout": {
        "legend": {
         "itemsizing": "constant",
         "title": {
          "text": "country"
         },
         "tracegroupgap": 0
        },
        "margin": {
         "t": 60
        },
        "template": {
         "data": {
          "bar": [
           {
            "error_x": {
             "color": "#2a3f5f"
            },
            "error_y": {
             "color": "#2a3f5f"
            },
            "marker": {
             "line": {
              "color": "#E5ECF6",
              "width": 0.5
             }
            },
            "type": "bar"
           }
          ],
          "barpolar": [
           {
            "marker": {
             "line": {
              "color": "#E5ECF6",
              "width": 0.5
             }
            },
            "type": "barpolar"
           }
          ],
          "carpet": [
           {
            "aaxis": {
             "endlinecolor": "#2a3f5f",
             "gridcolor": "white",
             "linecolor": "white",
             "minorgridcolor": "white",
             "startlinecolor": "#2a3f5f"
            },
            "baxis": {
             "endlinecolor": "#2a3f5f",
             "gridcolor": "white",
             "linecolor": "white",
             "minorgridcolor": "white",
             "startlinecolor": "#2a3f5f"
            },
            "type": "carpet"
           }
          ],
          "choropleth": [
           {
            "colorbar": {
             "outlinewidth": 0,
             "ticks": ""
            },
            "type": "choropleth"
           }
          ],
          "contour": [
           {
            "colorbar": {
             "outlinewidth": 0,
             "ticks": ""
            },
            "colorscale": [
             [
              0,
              "#0d0887"
             ],
             [
              0.1111111111111111,
              "#46039f"
             ],
             [
              0.2222222222222222,
              "#7201a8"
             ],
             [
              0.3333333333333333,
              "#9c179e"
             ],
             [
              0.4444444444444444,
              "#bd3786"
             ],
             [
              0.5555555555555556,
              "#d8576b"
             ],
             [
              0.6666666666666666,
              "#ed7953"
             ],
             [
              0.7777777777777778,
              "#fb9f3a"
             ],
             [
              0.8888888888888888,
              "#fdca26"
             ],
             [
              1,
              "#f0f921"
             ]
            ],
            "type": "contour"
           }
          ],
          "contourcarpet": [
           {
            "colorbar": {
             "outlinewidth": 0,
             "ticks": ""
            },
            "type": "contourcarpet"
           }
          ],
          "heatmap": [
           {
            "colorbar": {
             "outlinewidth": 0,
             "ticks": ""
            },
            "colorscale": [
             [
              0,
              "#0d0887"
             ],
             [
              0.1111111111111111,
              "#46039f"
             ],
             [
              0.2222222222222222,
              "#7201a8"
             ],
             [
              0.3333333333333333,
              "#9c179e"
             ],
             [
              0.4444444444444444,
              "#bd3786"
             ],
             [
              0.5555555555555556,
              "#d8576b"
             ],
             [
              0.6666666666666666,
              "#ed7953"
             ],
             [
              0.7777777777777778,
              "#fb9f3a"
             ],
             [
              0.8888888888888888,
              "#fdca26"
             ],
             [
              1,
              "#f0f921"
             ]
            ],
            "type": "heatmap"
           }
          ],
          "heatmapgl": [
           {
            "colorbar": {
             "outlinewidth": 0,
             "ticks": ""
            },
            "colorscale": [
             [
              0,
              "#0d0887"
             ],
             [
              0.1111111111111111,
              "#46039f"
             ],
             [
              0.2222222222222222,
              "#7201a8"
             ],
             [
              0.3333333333333333,
              "#9c179e"
             ],
             [
              0.4444444444444444,
              "#bd3786"
             ],
             [
              0.5555555555555556,
              "#d8576b"
             ],
             [
              0.6666666666666666,
              "#ed7953"
             ],
             [
              0.7777777777777778,
              "#fb9f3a"
             ],
             [
              0.8888888888888888,
              "#fdca26"
             ],
             [
              1,
              "#f0f921"
             ]
            ],
            "type": "heatmapgl"
           }
          ],
          "histogram": [
           {
            "marker": {
             "colorbar": {
              "outlinewidth": 0,
              "ticks": ""
             }
            },
            "type": "histogram"
           }
          ],
          "histogram2d": [
           {
            "colorbar": {
             "outlinewidth": 0,
             "ticks": ""
            },
            "colorscale": [
             [
              0,
              "#0d0887"
             ],
             [
              0.1111111111111111,
              "#46039f"
             ],
             [
              0.2222222222222222,
              "#7201a8"
             ],
             [
              0.3333333333333333,
              "#9c179e"
             ],
             [
              0.4444444444444444,
              "#bd3786"
             ],
             [
              0.5555555555555556,
              "#d8576b"
             ],
             [
              0.6666666666666666,
              "#ed7953"
             ],
             [
              0.7777777777777778,
              "#fb9f3a"
             ],
             [
              0.8888888888888888,
              "#fdca26"
             ],
             [
              1,
              "#f0f921"
             ]
            ],
            "type": "histogram2d"
           }
          ],
          "histogram2dcontour": [
           {
            "colorbar": {
             "outlinewidth": 0,
             "ticks": ""
            },
            "colorscale": [
             [
              0,
              "#0d0887"
             ],
             [
              0.1111111111111111,
              "#46039f"
             ],
             [
              0.2222222222222222,
              "#7201a8"
             ],
             [
              0.3333333333333333,
              "#9c179e"
             ],
             [
              0.4444444444444444,
              "#bd3786"
             ],
             [
              0.5555555555555556,
              "#d8576b"
             ],
             [
              0.6666666666666666,
              "#ed7953"
             ],
             [
              0.7777777777777778,
              "#fb9f3a"
             ],
             [
              0.8888888888888888,
              "#fdca26"
             ],
             [
              1,
              "#f0f921"
             ]
            ],
            "type": "histogram2dcontour"
           }
          ],
          "mesh3d": [
           {
            "colorbar": {
             "outlinewidth": 0,
             "ticks": ""
            },
            "type": "mesh3d"
           }
          ],
          "parcoords": [
           {
            "line": {
             "colorbar": {
              "outlinewidth": 0,
              "ticks": ""
             }
            },
            "type": "parcoords"
           }
          ],
          "pie": [
           {
            "automargin": true,
            "type": "pie"
           }
          ],
          "scatter": [
           {
            "marker": {
             "colorbar": {
              "outlinewidth": 0,
              "ticks": ""
             }
            },
            "type": "scatter"
           }
          ],
          "scatter3d": [
           {
            "line": {
             "colorbar": {
              "outlinewidth": 0,
              "ticks": ""
             }
            },
            "marker": {
             "colorbar": {
              "outlinewidth": 0,
              "ticks": ""
             }
            },
            "type": "scatter3d"
           }
          ],
          "scattercarpet": [
           {
            "marker": {
             "colorbar": {
              "outlinewidth": 0,
              "ticks": ""
             }
            },
            "type": "scattercarpet"
           }
          ],
          "scattergeo": [
           {
            "marker": {
             "colorbar": {
              "outlinewidth": 0,
              "ticks": ""
             }
            },
            "type": "scattergeo"
           }
          ],
          "scattergl": [
           {
            "marker": {
             "colorbar": {
              "outlinewidth": 0,
              "ticks": ""
             }
            },
            "type": "scattergl"
           }
          ],
          "scattermapbox": [
           {
            "marker": {
             "colorbar": {
              "outlinewidth": 0,
              "ticks": ""
             }
            },
            "type": "scattermapbox"
           }
          ],
          "scatterpolar": [
           {
            "marker": {
             "colorbar": {
              "outlinewidth": 0,
              "ticks": ""
             }
            },
            "type": "scatterpolar"
           }
          ],
          "scatterpolargl": [
           {
            "marker": {
             "colorbar": {
              "outlinewidth": 0,
              "ticks": ""
             }
            },
            "type": "scatterpolargl"
           }
          ],
          "scatterternary": [
           {
            "marker": {
             "colorbar": {
              "outlinewidth": 0,
              "ticks": ""
             }
            },
            "type": "scatterternary"
           }
          ],
          "surface": [
           {
            "colorbar": {
             "outlinewidth": 0,
             "ticks": ""
            },
            "colorscale": [
             [
              0,
              "#0d0887"
             ],
             [
              0.1111111111111111,
              "#46039f"
             ],
             [
              0.2222222222222222,
              "#7201a8"
             ],
             [
              0.3333333333333333,
              "#9c179e"
             ],
             [
              0.4444444444444444,
              "#bd3786"
             ],
             [
              0.5555555555555556,
              "#d8576b"
             ],
             [
              0.6666666666666666,
              "#ed7953"
             ],
             [
              0.7777777777777778,
              "#fb9f3a"
             ],
             [
              0.8888888888888888,
              "#fdca26"
             ],
             [
              1,
              "#f0f921"
             ]
            ],
            "type": "surface"
           }
          ],
          "table": [
           {
            "cells": {
             "fill": {
              "color": "#EBF0F8"
             },
             "line": {
              "color": "white"
             }
            },
            "header": {
             "fill": {
              "color": "#C8D4E3"
             },
             "line": {
              "color": "white"
             }
            },
            "type": "table"
           }
          ]
         },
         "layout": {
          "annotationdefaults": {
           "arrowcolor": "#2a3f5f",
           "arrowhead": 0,
           "arrowwidth": 1
          },
          "autotypenumbers": "strict",
          "coloraxis": {
           "colorbar": {
            "outlinewidth": 0,
            "ticks": ""
           }
          },
          "colorscale": {
           "diverging": [
            [
             0,
             "#8e0152"
            ],
            [
             0.1,
             "#c51b7d"
            ],
            [
             0.2,
             "#de77ae"
            ],
            [
             0.3,
             "#f1b6da"
            ],
            [
             0.4,
             "#fde0ef"
            ],
            [
             0.5,
             "#f7f7f7"
            ],
            [
             0.6,
             "#e6f5d0"
            ],
            [
             0.7,
             "#b8e186"
            ],
            [
             0.8,
             "#7fbc41"
            ],
            [
             0.9,
             "#4d9221"
            ],
            [
             1,
             "#276419"
            ]
           ],
           "sequential": [
            [
             0,
             "#0d0887"
            ],
            [
             0.1111111111111111,
             "#46039f"
            ],
            [
             0.2222222222222222,
             "#7201a8"
            ],
            [
             0.3333333333333333,
             "#9c179e"
            ],
            [
             0.4444444444444444,
             "#bd3786"
            ],
            [
             0.5555555555555556,
             "#d8576b"
            ],
            [
             0.6666666666666666,
             "#ed7953"
            ],
            [
             0.7777777777777778,
             "#fb9f3a"
            ],
            [
             0.8888888888888888,
             "#fdca26"
            ],
            [
             1,
             "#f0f921"
            ]
           ],
           "sequentialminus": [
            [
             0,
             "#0d0887"
            ],
            [
             0.1111111111111111,
             "#46039f"
            ],
            [
             0.2222222222222222,
             "#7201a8"
            ],
            [
             0.3333333333333333,
             "#9c179e"
            ],
            [
             0.4444444444444444,
             "#bd3786"
            ],
            [
             0.5555555555555556,
             "#d8576b"
            ],
            [
             0.6666666666666666,
             "#ed7953"
            ],
            [
             0.7777777777777778,
             "#fb9f3a"
            ],
            [
             0.8888888888888888,
             "#fdca26"
            ],
            [
             1,
             "#f0f921"
            ]
           ]
          },
          "colorway": [
           "#636efa",
           "#EF553B",
           "#00cc96",
           "#ab63fa",
           "#FFA15A",
           "#19d3f3",
           "#FF6692",
           "#B6E880",
           "#FF97FF",
           "#FECB52"
          ],
          "font": {
           "color": "#2a3f5f"
          },
          "geo": {
           "bgcolor": "white",
           "lakecolor": "white",
           "landcolor": "#E5ECF6",
           "showlakes": true,
           "showland": true,
           "subunitcolor": "white"
          },
          "hoverlabel": {
           "align": "left"
          },
          "hovermode": "closest",
          "mapbox": {
           "style": "light"
          },
          "paper_bgcolor": "white",
          "plot_bgcolor": "#E5ECF6",
          "polar": {
           "angularaxis": {
            "gridcolor": "white",
            "linecolor": "white",
            "ticks": ""
           },
           "bgcolor": "#E5ECF6",
           "radialaxis": {
            "gridcolor": "white",
            "linecolor": "white",
            "ticks": ""
           }
          },
          "scene": {
           "xaxis": {
            "backgroundcolor": "#E5ECF6",
            "gridcolor": "white",
            "gridwidth": 2,
            "linecolor": "white",
            "showbackground": true,
            "ticks": "",
            "zerolinecolor": "white"
           },
           "yaxis": {
            "backgroundcolor": "#E5ECF6",
            "gridcolor": "white",
            "gridwidth": 2,
            "linecolor": "white",
            "showbackground": true,
            "ticks": "",
            "zerolinecolor": "white"
           },
           "zaxis": {
            "backgroundcolor": "#E5ECF6",
            "gridcolor": "white",
            "gridwidth": 2,
            "linecolor": "white",
            "showbackground": true,
            "ticks": "",
            "zerolinecolor": "white"
           }
          },
          "shapedefaults": {
           "line": {
            "color": "#2a3f5f"
           }
          },
          "ternary": {
           "aaxis": {
            "gridcolor": "white",
            "linecolor": "white",
            "ticks": ""
           },
           "baxis": {
            "gridcolor": "white",
            "linecolor": "white",
            "ticks": ""
           },
           "bgcolor": "#E5ECF6",
           "caxis": {
            "gridcolor": "white",
            "linecolor": "white",
            "ticks": ""
           }
          },
          "title": {
           "x": 0.05
          },
          "xaxis": {
           "automargin": true,
           "gridcolor": "white",
           "linecolor": "white",
           "ticks": "",
           "title": {
            "standoff": 15
           },
           "zerolinecolor": "white",
           "zerolinewidth": 2
          },
          "yaxis": {
           "automargin": true,
           "gridcolor": "white",
           "linecolor": "white",
           "ticks": "",
           "title": {
            "standoff": 15
           },
           "zerolinecolor": "white",
           "zerolinewidth": 2
          }
         }
        },
        "xaxis": {
         "anchor": "y",
         "domain": [
          0,
          1
         ],
         "title": {
          "text": "year"
         }
        },
        "yaxis": {
         "anchor": "x",
         "domain": [
          0,
          1
         ],
         "title": {
          "text": "hectaresarablelandperperson"
         }
        }
       }
      },
      "text/html": [
       "<div>                            <div id=\"927f554a-c6bc-4319-943f-5efc83108a4c\" class=\"plotly-graph-div\" style=\"height:525px; width:100%;\"></div>            <script type=\"text/javascript\">                require([\"plotly\"], function(Plotly) {                    window.PLOTLYENV=window.PLOTLYENV || {};                                    if (document.getElementById(\"927f554a-c6bc-4319-943f-5efc83108a4c\")) {                    Plotly.newPlot(                        \"927f554a-c6bc-4319-943f-5efc83108a4c\",                        [{\"customdata\": [[\"Canada\"], [\"Canada\"]], \"hovertemplate\": \"country=%{customdata[0]}<br>year=%{x}<br>hectaresarablelandperperson=%{marker.size}<extra></extra>\", \"legendgroup\": \"Canada\", \"marker\": {\"color\": \"#636efa\", \"size\": [1.63736461444353, 1.21695065037721], \"sizemode\": \"area\", \"sizeref\": 0.004093411536108826, \"symbol\": \"circle\"}, \"mode\": \"markers\", \"name\": \"Canada\", \"orientation\": \"v\", \"showlegend\": true, \"type\": \"scatter\", \"x\": [1990, 2015], \"xaxis\": \"x\", \"y\": [1.63736461444353, 1.21695065037721], \"yaxis\": \"y\"}, {\"customdata\": [[\"United States\"], [\"United States\"]], \"hovertemplate\": \"country=%{customdata[0]}<br>year=%{x}<br>hectaresarablelandperperson=%{marker.size}<extra></extra>\", \"legendgroup\": \"United States\", \"marker\": {\"color\": \"#EF553B\", \"size\": [0.743825689139222, 0.474490821838453], \"sizemode\": \"area\", \"sizeref\": 0.004093411536108826, \"symbol\": \"circle\"}, \"mode\": \"markers\", \"name\": \"United States\", \"orientation\": \"v\", \"showlegend\": true, \"type\": \"scatter\", \"x\": [1990, 2015], \"xaxis\": \"x\", \"y\": [0.743825689139222, 0.474490821838453], \"yaxis\": \"y\"}, {\"customdata\": [[\"Brazil\"], [\"Brazil\"]], \"hovertemplate\": \"country=%{customdata[0]}<br>year=%{x}<br>hectaresarablelandperperson=%{marker.size}<extra></extra>\", \"legendgroup\": \"Brazil\", \"marker\": {\"color\": \"#00cc96\", \"size\": [0.388503500847836, 0.339338949567815], \"sizemode\": \"area\", \"sizeref\": 0.004093411536108826, \"symbol\": \"circle\"}, \"mode\": \"markers\", \"name\": \"Brazil\", \"orientation\": \"v\", \"showlegend\": true, \"type\": \"scatter\", \"x\": [2015, 1990], \"xaxis\": \"x\", \"y\": [0.388503500847836, 0.339338949567815], \"yaxis\": \"y\"}, {\"customdata\": [[\"France\"], [\"France\"]], \"hovertemplate\": \"country=%{customdata[0]}<br>year=%{x}<br>hectaresarablelandperperson=%{marker.size}<extra></extra>\", \"legendgroup\": \"France\", \"marker\": {\"color\": \"#ab63fa\", \"size\": [0.3039471289773, 0.277357726039785], \"sizemode\": \"area\", \"sizeref\": 0.004093411536108826, \"symbol\": \"circle\"}, \"mode\": \"markers\", \"name\": \"France\", \"orientation\": \"v\", \"showlegend\": true, \"type\": \"scatter\", \"x\": [1990, 2015], \"xaxis\": \"x\", \"y\": [0.3039471289773, 0.277357726039785], \"yaxis\": \"y\"}, {\"customdata\": [[\"Pakistan\"], [\"Pakistan\"]], \"hovertemplate\": \"country=%{customdata[0]}<br>year=%{x}<br>hectaresarablelandperperson=%{marker.size}<extra></extra>\", \"legendgroup\": \"Pakistan\", \"marker\": {\"color\": \"#FFA15A\", \"size\": [0.276285131233208, 0.160734594694017], \"sizemode\": \"area\", \"sizeref\": 0.004093411536108826, \"symbol\": \"circle\"}, \"mode\": \"markers\", \"name\": \"Pakistan\", \"orientation\": \"v\", \"showlegend\": true, \"type\": \"scatter\", \"x\": [1990, 2015], \"xaxis\": \"x\", \"y\": [0.276285131233208, 0.160734594694017], \"yaxis\": \"y\"}, {\"customdata\": [[\"India\"], [\"India\"]], \"hovertemplate\": \"country=%{customdata[0]}<br>year=%{x}<br>hectaresarablelandperperson=%{marker.size}<extra></extra>\", \"legendgroup\": \"India\", \"marker\": {\"color\": \"#19d3f3\", \"size\": [0.187855086325376, 0.119523718953133], \"sizemode\": \"area\", \"sizeref\": 0.004093411536108826, \"symbol\": \"circle\"}, \"mode\": \"markers\", \"name\": \"India\", \"orientation\": \"v\", \"showlegend\": true, \"type\": \"scatter\", \"x\": [1990, 2015], \"xaxis\": \"x\", \"y\": [0.187855086325376, 0.119523718953133], \"yaxis\": \"y\"}, {\"customdata\": [[\"Italy\"], [\"Italy\"]], \"hovertemplate\": \"country=%{customdata[0]}<br>year=%{x}<br>hectaresarablelandperperson=%{marker.size}<extra></extra>\", \"legendgroup\": \"Italy\", \"marker\": {\"color\": \"#FF6692\", \"size\": [0.1588878835471, 0.108693178669027], \"sizemode\": \"area\", \"sizeref\": 0.004093411536108826, \"symbol\": \"circle\"}, \"mode\": \"markers\", \"name\": \"Italy\", \"orientation\": \"v\", \"showlegend\": true, \"type\": \"scatter\", \"x\": [1990, 2015], \"xaxis\": \"x\", \"y\": [0.1588878835471, 0.108693178669027], \"yaxis\": \"y\"}, {\"customdata\": [[\"Germany\"], [\"Germany\"]], \"hovertemplate\": \"country=%{customdata[0]}<br>year=%{x}<br>hectaresarablelandperperson=%{marker.size}<extra></extra>\", \"legendgroup\": \"Germany\", \"marker\": {\"color\": \"#B6E880\", \"size\": [0.150705571104433, 0.145054371272668], \"sizemode\": \"area\", \"sizeref\": 0.004093411536108826, \"symbol\": \"circle\"}, \"mode\": \"markers\", \"name\": \"Germany\", \"orientation\": \"v\", \"showlegend\": true, \"type\": \"scatter\", \"x\": [1990, 2015], \"xaxis\": \"x\", \"y\": [0.150705571104433, 0.145054371272668], \"yaxis\": \"y\"}, {\"customdata\": [[\"United Kingdom\"], [\"United Kingdom\"]], \"hovertemplate\": \"country=%{customdata[0]}<br>year=%{x}<br>hectaresarablelandperperson=%{marker.size}<extra></extra>\", \"legendgroup\": \"United Kingdom\", \"marker\": {\"color\": \"#FF97FF\", \"size\": [0.115638063760453, 0.0922939524460592], \"sizemode\": \"area\", \"sizeref\": 0.004093411536108826, \"symbol\": \"circle\"}, \"mode\": \"markers\", \"name\": \"United Kingdom\", \"orientation\": \"v\", \"showlegend\": true, \"type\": \"scatter\", \"x\": [1990, 2015], \"xaxis\": \"x\", \"y\": [0.115638063760453, 0.0922939524460592], \"yaxis\": \"y\"}, {\"customdata\": [[\"China\"], [\"China\"]], \"hovertemplate\": \"country=%{customdata[0]}<br>year=%{x}<br>hectaresarablelandperperson=%{marker.size}<extra></extra>\", \"legendgroup\": \"China\", \"marker\": {\"color\": \"#FECB52\", \"size\": [0.109057114038681, 0.0867840317381602], \"sizemode\": \"area\", \"sizeref\": 0.004093411536108826, \"symbol\": \"circle\"}, \"mode\": \"markers\", \"name\": \"China\", \"orientation\": \"v\", \"showlegend\": true, \"type\": \"scatter\", \"x\": [1990, 2015], \"xaxis\": \"x\", \"y\": [0.109057114038681, 0.0867840317381602], \"yaxis\": \"y\"}, {\"customdata\": [[\"Japan\"], [\"Japan\"]], \"hovertemplate\": \"country=%{customdata[0]}<br>year=%{x}<br>hectaresarablelandperperson=%{marker.size}<extra></extra>\", \"legendgroup\": \"Japan\", \"marker\": {\"color\": \"#636efa\", \"size\": [0.0385957243578847, 0.0330420556704761], \"sizemode\": \"area\", \"sizeref\": 0.004093411536108826, \"symbol\": \"circle\"}, \"mode\": \"markers\", \"name\": \"Japan\", \"orientation\": \"v\", \"showlegend\": true, \"type\": \"scatter\", \"x\": [1990, 2015], \"xaxis\": \"x\", \"y\": [0.0385957243578847, 0.0330420556704761], \"yaxis\": \"y\"}],                        {\"legend\": {\"itemsizing\": \"constant\", \"title\": {\"text\": \"country\"}, \"tracegroupgap\": 0}, \"margin\": {\"t\": 60}, \"template\": {\"data\": {\"bar\": [{\"error_x\": {\"color\": \"#2a3f5f\"}, \"error_y\": {\"color\": \"#2a3f5f\"}, \"marker\": {\"line\": {\"color\": \"#E5ECF6\", \"width\": 0.5}}, \"type\": \"bar\"}], \"barpolar\": [{\"marker\": {\"line\": {\"color\": \"#E5ECF6\", \"width\": 0.5}}, \"type\": \"barpolar\"}], \"carpet\": [{\"aaxis\": {\"endlinecolor\": \"#2a3f5f\", \"gridcolor\": \"white\", \"linecolor\": \"white\", \"minorgridcolor\": \"white\", \"startlinecolor\": \"#2a3f5f\"}, \"baxis\": {\"endlinecolor\": \"#2a3f5f\", \"gridcolor\": \"white\", \"linecolor\": \"white\", \"minorgridcolor\": \"white\", \"startlinecolor\": \"#2a3f5f\"}, \"type\": \"carpet\"}], \"choropleth\": [{\"colorbar\": {\"outlinewidth\": 0, \"ticks\": \"\"}, \"type\": \"choropleth\"}], \"contour\": [{\"colorbar\": {\"outlinewidth\": 0, \"ticks\": \"\"}, \"colorscale\": [[0.0, \"#0d0887\"], [0.1111111111111111, \"#46039f\"], [0.2222222222222222, \"#7201a8\"], [0.3333333333333333, \"#9c179e\"], [0.4444444444444444, \"#bd3786\"], [0.5555555555555556, \"#d8576b\"], [0.6666666666666666, \"#ed7953\"], [0.7777777777777778, \"#fb9f3a\"], [0.8888888888888888, \"#fdca26\"], [1.0, \"#f0f921\"]], \"type\": \"contour\"}], \"contourcarpet\": [{\"colorbar\": {\"outlinewidth\": 0, \"ticks\": \"\"}, \"type\": \"contourcarpet\"}], \"heatmap\": [{\"colorbar\": {\"outlinewidth\": 0, \"ticks\": \"\"}, \"colorscale\": [[0.0, \"#0d0887\"], [0.1111111111111111, \"#46039f\"], [0.2222222222222222, \"#7201a8\"], [0.3333333333333333, \"#9c179e\"], [0.4444444444444444, \"#bd3786\"], [0.5555555555555556, \"#d8576b\"], [0.6666666666666666, \"#ed7953\"], [0.7777777777777778, \"#fb9f3a\"], [0.8888888888888888, \"#fdca26\"], [1.0, \"#f0f921\"]], \"type\": \"heatmap\"}], \"heatmapgl\": [{\"colorbar\": {\"outlinewidth\": 0, \"ticks\": \"\"}, \"colorscale\": [[0.0, \"#0d0887\"], [0.1111111111111111, \"#46039f\"], [0.2222222222222222, \"#7201a8\"], [0.3333333333333333, \"#9c179e\"], [0.4444444444444444, \"#bd3786\"], [0.5555555555555556, \"#d8576b\"], [0.6666666666666666, \"#ed7953\"], [0.7777777777777778, \"#fb9f3a\"], [0.8888888888888888, \"#fdca26\"], [1.0, \"#f0f921\"]], \"type\": \"heatmapgl\"}], \"histogram\": [{\"marker\": {\"colorbar\": {\"outlinewidth\": 0, \"ticks\": \"\"}}, \"type\": \"histogram\"}], \"histogram2d\": [{\"colorbar\": {\"outlinewidth\": 0, \"ticks\": \"\"}, \"colorscale\": [[0.0, \"#0d0887\"], [0.1111111111111111, \"#46039f\"], [0.2222222222222222, \"#7201a8\"], [0.3333333333333333, \"#9c179e\"], [0.4444444444444444, \"#bd3786\"], [0.5555555555555556, \"#d8576b\"], [0.6666666666666666, \"#ed7953\"], [0.7777777777777778, \"#fb9f3a\"], [0.8888888888888888, \"#fdca26\"], [1.0, \"#f0f921\"]], \"type\": \"histogram2d\"}], \"histogram2dcontour\": [{\"colorbar\": {\"outlinewidth\": 0, \"ticks\": \"\"}, \"colorscale\": [[0.0, \"#0d0887\"], [0.1111111111111111, \"#46039f\"], [0.2222222222222222, \"#7201a8\"], [0.3333333333333333, \"#9c179e\"], [0.4444444444444444, \"#bd3786\"], [0.5555555555555556, \"#d8576b\"], [0.6666666666666666, \"#ed7953\"], [0.7777777777777778, \"#fb9f3a\"], [0.8888888888888888, \"#fdca26\"], [1.0, \"#f0f921\"]], \"type\": \"histogram2dcontour\"}], \"mesh3d\": [{\"colorbar\": {\"outlinewidth\": 0, \"ticks\": \"\"}, \"type\": \"mesh3d\"}], \"parcoords\": [{\"line\": {\"colorbar\": {\"outlinewidth\": 0, \"ticks\": \"\"}}, \"type\": \"parcoords\"}], \"pie\": [{\"automargin\": true, \"type\": \"pie\"}], \"scatter\": [{\"marker\": {\"colorbar\": {\"outlinewidth\": 0, \"ticks\": \"\"}}, \"type\": \"scatter\"}], \"scatter3d\": [{\"line\": {\"colorbar\": {\"outlinewidth\": 0, \"ticks\": \"\"}}, \"marker\": {\"colorbar\": {\"outlinewidth\": 0, \"ticks\": \"\"}}, \"type\": \"scatter3d\"}], \"scattercarpet\": [{\"marker\": {\"colorbar\": {\"outlinewidth\": 0, \"ticks\": \"\"}}, \"type\": \"scattercarpet\"}], \"scattergeo\": [{\"marker\": {\"colorbar\": {\"outlinewidth\": 0, \"ticks\": \"\"}}, \"type\": \"scattergeo\"}], \"scattergl\": [{\"marker\": {\"colorbar\": {\"outlinewidth\": 0, \"ticks\": \"\"}}, \"type\": \"scattergl\"}], \"scattermapbox\": [{\"marker\": {\"colorbar\": {\"outlinewidth\": 0, \"ticks\": \"\"}}, \"type\": \"scattermapbox\"}], \"scatterpolar\": [{\"marker\": {\"colorbar\": {\"outlinewidth\": 0, \"ticks\": \"\"}}, \"type\": \"scatterpolar\"}], \"scatterpolargl\": [{\"marker\": {\"colorbar\": {\"outlinewidth\": 0, \"ticks\": \"\"}}, \"type\": \"scatterpolargl\"}], \"scatterternary\": [{\"marker\": {\"colorbar\": {\"outlinewidth\": 0, \"ticks\": \"\"}}, \"type\": \"scatterternary\"}], \"surface\": [{\"colorbar\": {\"outlinewidth\": 0, \"ticks\": \"\"}, \"colorscale\": [[0.0, \"#0d0887\"], [0.1111111111111111, \"#46039f\"], [0.2222222222222222, \"#7201a8\"], [0.3333333333333333, \"#9c179e\"], [0.4444444444444444, \"#bd3786\"], [0.5555555555555556, \"#d8576b\"], [0.6666666666666666, \"#ed7953\"], [0.7777777777777778, \"#fb9f3a\"], [0.8888888888888888, \"#fdca26\"], [1.0, \"#f0f921\"]], \"type\": \"surface\"}], \"table\": [{\"cells\": {\"fill\": {\"color\": \"#EBF0F8\"}, \"line\": {\"color\": \"white\"}}, \"header\": {\"fill\": {\"color\": \"#C8D4E3\"}, \"line\": {\"color\": \"white\"}}, \"type\": \"table\"}]}, \"layout\": {\"annotationdefaults\": {\"arrowcolor\": \"#2a3f5f\", \"arrowhead\": 0, \"arrowwidth\": 1}, \"autotypenumbers\": \"strict\", \"coloraxis\": {\"colorbar\": {\"outlinewidth\": 0, \"ticks\": \"\"}}, \"colorscale\": {\"diverging\": [[0, \"#8e0152\"], [0.1, \"#c51b7d\"], [0.2, \"#de77ae\"], [0.3, \"#f1b6da\"], [0.4, \"#fde0ef\"], [0.5, \"#f7f7f7\"], [0.6, \"#e6f5d0\"], [0.7, \"#b8e186\"], [0.8, \"#7fbc41\"], [0.9, \"#4d9221\"], [1, \"#276419\"]], \"sequential\": [[0.0, \"#0d0887\"], [0.1111111111111111, \"#46039f\"], [0.2222222222222222, \"#7201a8\"], [0.3333333333333333, \"#9c179e\"], [0.4444444444444444, \"#bd3786\"], [0.5555555555555556, \"#d8576b\"], [0.6666666666666666, \"#ed7953\"], [0.7777777777777778, \"#fb9f3a\"], [0.8888888888888888, \"#fdca26\"], [1.0, \"#f0f921\"]], \"sequentialminus\": [[0.0, \"#0d0887\"], [0.1111111111111111, \"#46039f\"], [0.2222222222222222, \"#7201a8\"], [0.3333333333333333, \"#9c179e\"], [0.4444444444444444, \"#bd3786\"], [0.5555555555555556, \"#d8576b\"], [0.6666666666666666, \"#ed7953\"], [0.7777777777777778, \"#fb9f3a\"], [0.8888888888888888, \"#fdca26\"], [1.0, \"#f0f921\"]]}, \"colorway\": [\"#636efa\", \"#EF553B\", \"#00cc96\", \"#ab63fa\", \"#FFA15A\", \"#19d3f3\", \"#FF6692\", \"#B6E880\", \"#FF97FF\", \"#FECB52\"], \"font\": {\"color\": \"#2a3f5f\"}, \"geo\": {\"bgcolor\": \"white\", \"lakecolor\": \"white\", \"landcolor\": \"#E5ECF6\", \"showlakes\": true, \"showland\": true, \"subunitcolor\": \"white\"}, \"hoverlabel\": {\"align\": \"left\"}, \"hovermode\": \"closest\", \"mapbox\": {\"style\": \"light\"}, \"paper_bgcolor\": \"white\", \"plot_bgcolor\": \"#E5ECF6\", \"polar\": {\"angularaxis\": {\"gridcolor\": \"white\", \"linecolor\": \"white\", \"ticks\": \"\"}, \"bgcolor\": \"#E5ECF6\", \"radialaxis\": {\"gridcolor\": \"white\", \"linecolor\": \"white\", \"ticks\": \"\"}}, \"scene\": {\"xaxis\": {\"backgroundcolor\": \"#E5ECF6\", \"gridcolor\": \"white\", \"gridwidth\": 2, \"linecolor\": \"white\", \"showbackground\": true, \"ticks\": \"\", \"zerolinecolor\": \"white\"}, \"yaxis\": {\"backgroundcolor\": \"#E5ECF6\", \"gridcolor\": \"white\", \"gridwidth\": 2, \"linecolor\": \"white\", \"showbackground\": true, \"ticks\": \"\", \"zerolinecolor\": \"white\"}, \"zaxis\": {\"backgroundcolor\": \"#E5ECF6\", \"gridcolor\": \"white\", \"gridwidth\": 2, \"linecolor\": \"white\", \"showbackground\": true, \"ticks\": \"\", \"zerolinecolor\": \"white\"}}, \"shapedefaults\": {\"line\": {\"color\": \"#2a3f5f\"}}, \"ternary\": {\"aaxis\": {\"gridcolor\": \"white\", \"linecolor\": \"white\", \"ticks\": \"\"}, \"baxis\": {\"gridcolor\": \"white\", \"linecolor\": \"white\", \"ticks\": \"\"}, \"bgcolor\": \"#E5ECF6\", \"caxis\": {\"gridcolor\": \"white\", \"linecolor\": \"white\", \"ticks\": \"\"}}, \"title\": {\"x\": 0.05}, \"xaxis\": {\"automargin\": true, \"gridcolor\": \"white\", \"linecolor\": \"white\", \"ticks\": \"\", \"title\": {\"standoff\": 15}, \"zerolinecolor\": \"white\", \"zerolinewidth\": 2}, \"yaxis\": {\"automargin\": true, \"gridcolor\": \"white\", \"linecolor\": \"white\", \"ticks\": \"\", \"title\": {\"standoff\": 15}, \"zerolinecolor\": \"white\", \"zerolinewidth\": 2}}}, \"xaxis\": {\"anchor\": \"y\", \"domain\": [0.0, 1.0], \"title\": {\"text\": \"year\"}}, \"yaxis\": {\"anchor\": \"x\", \"domain\": [0.0, 1.0], \"title\": {\"text\": \"hectaresarablelandperperson\"}}},                        {\"responsive\": true}                    ).then(function(){\n",
       "                            \n",
       "var gd = document.getElementById('927f554a-c6bc-4319-943f-5efc83108a4c');\n",
       "var x = new MutationObserver(function (mutations, observer) {{\n",
       "        var display = window.getComputedStyle(gd).display;\n",
       "        if (!display || display === 'none') {{\n",
       "            console.log([gd, 'removed!']);\n",
       "            Plotly.purge(gd);\n",
       "            observer.disconnect();\n",
       "        }}\n",
       "}});\n",
       "\n",
       "// Listen for the removal of the full notebook cells\n",
       "var notebookContainer = gd.closest('#notebook-container');\n",
       "if (notebookContainer) {{\n",
       "    x.observe(notebookContainer, {childList: true});\n",
       "}}\n",
       "\n",
       "// Listen for the clearing of the current output cell\n",
       "var outputEl = gd.closest('.output');\n",
       "if (outputEl) {{\n",
       "    x.observe(outputEl, {childList: true});\n",
       "}}\n",
       "\n",
       "                        })                };                });            </script>        </div>"
      ]
     },
     "metadata": {},
     "output_type": "display_data"
    }
   ],
   "source": [
    "fig = px.scatter(graph2(), x=\"year\", y=\"hectaresarablelandperperson\", color=\"country\",\n",
    "                 size=\"hectaresarablelandperperson\", hover_data=['country'])\n",
    "fig.show()"
   ]
  },
  {
   "cell_type": "code",
   "execution_count": 74,
   "id": "19297d09",
   "metadata": {},
   "outputs": [
    {
     "data": {
      "text/html": [
       "<div>\n",
       "<style scoped>\n",
       "    .dataframe tbody tr th:only-of-type {\n",
       "        vertical-align: middle;\n",
       "    }\n",
       "\n",
       "    .dataframe tbody tr th {\n",
       "        vertical-align: top;\n",
       "    }\n",
       "\n",
       "    .dataframe thead th {\n",
       "        text-align: right;\n",
       "    }\n",
       "</style>\n",
       "<table border=\"1\" class=\"dataframe\">\n",
       "  <thead>\n",
       "    <tr style=\"text-align: right;\">\n",
       "      <th></th>\n",
       "      <th>country</th>\n",
       "      <th>year</th>\n",
       "      <th>hectaresarablelandperperson</th>\n",
       "    </tr>\n",
       "  </thead>\n",
       "  <tbody>\n",
       "    <tr>\n",
       "      <th>1</th>\n",
       "      <td>Canada</td>\n",
       "      <td>1990</td>\n",
       "      <td>1.637365</td>\n",
       "    </tr>\n",
       "    <tr>\n",
       "      <th>12</th>\n",
       "      <td>Canada</td>\n",
       "      <td>2015</td>\n",
       "      <td>1.216951</td>\n",
       "    </tr>\n",
       "    <tr>\n",
       "      <th>10</th>\n",
       "      <td>United States</td>\n",
       "      <td>1990</td>\n",
       "      <td>0.743826</td>\n",
       "    </tr>\n",
       "    <tr>\n",
       "      <th>21</th>\n",
       "      <td>United States</td>\n",
       "      <td>2015</td>\n",
       "      <td>0.474491</td>\n",
       "    </tr>\n",
       "    <tr>\n",
       "      <th>11</th>\n",
       "      <td>Brazil</td>\n",
       "      <td>2015</td>\n",
       "      <td>0.388504</td>\n",
       "    </tr>\n",
       "    <tr>\n",
       "      <th>0</th>\n",
       "      <td>Brazil</td>\n",
       "      <td>1990</td>\n",
       "      <td>0.339339</td>\n",
       "    </tr>\n",
       "    <tr>\n",
       "      <th>4</th>\n",
       "      <td>France</td>\n",
       "      <td>1990</td>\n",
       "      <td>0.303947</td>\n",
       "    </tr>\n",
       "    <tr>\n",
       "      <th>15</th>\n",
       "      <td>France</td>\n",
       "      <td>2015</td>\n",
       "      <td>0.277358</td>\n",
       "    </tr>\n",
       "    <tr>\n",
       "      <th>9</th>\n",
       "      <td>Pakistan</td>\n",
       "      <td>1990</td>\n",
       "      <td>0.276285</td>\n",
       "    </tr>\n",
       "    <tr>\n",
       "      <th>6</th>\n",
       "      <td>India</td>\n",
       "      <td>1990</td>\n",
       "      <td>0.187855</td>\n",
       "    </tr>\n",
       "    <tr>\n",
       "      <th>20</th>\n",
       "      <td>Pakistan</td>\n",
       "      <td>2015</td>\n",
       "      <td>0.160735</td>\n",
       "    </tr>\n",
       "    <tr>\n",
       "      <th>7</th>\n",
       "      <td>Italy</td>\n",
       "      <td>1990</td>\n",
       "      <td>0.158888</td>\n",
       "    </tr>\n",
       "    <tr>\n",
       "      <th>3</th>\n",
       "      <td>Germany</td>\n",
       "      <td>1990</td>\n",
       "      <td>0.150706</td>\n",
       "    </tr>\n",
       "    <tr>\n",
       "      <th>14</th>\n",
       "      <td>Germany</td>\n",
       "      <td>2015</td>\n",
       "      <td>0.145054</td>\n",
       "    </tr>\n",
       "    <tr>\n",
       "      <th>17</th>\n",
       "      <td>India</td>\n",
       "      <td>2015</td>\n",
       "      <td>0.119524</td>\n",
       "    </tr>\n",
       "    <tr>\n",
       "      <th>5</th>\n",
       "      <td>United Kingdom</td>\n",
       "      <td>1990</td>\n",
       "      <td>0.115638</td>\n",
       "    </tr>\n",
       "    <tr>\n",
       "      <th>2</th>\n",
       "      <td>China</td>\n",
       "      <td>1990</td>\n",
       "      <td>0.109057</td>\n",
       "    </tr>\n",
       "    <tr>\n",
       "      <th>18</th>\n",
       "      <td>Italy</td>\n",
       "      <td>2015</td>\n",
       "      <td>0.108693</td>\n",
       "    </tr>\n",
       "    <tr>\n",
       "      <th>16</th>\n",
       "      <td>United Kingdom</td>\n",
       "      <td>2015</td>\n",
       "      <td>0.092294</td>\n",
       "    </tr>\n",
       "    <tr>\n",
       "      <th>13</th>\n",
       "      <td>China</td>\n",
       "      <td>2015</td>\n",
       "      <td>0.086784</td>\n",
       "    </tr>\n",
       "    <tr>\n",
       "      <th>8</th>\n",
       "      <td>Japan</td>\n",
       "      <td>1990</td>\n",
       "      <td>0.038596</td>\n",
       "    </tr>\n",
       "    <tr>\n",
       "      <th>19</th>\n",
       "      <td>Japan</td>\n",
       "      <td>2015</td>\n",
       "      <td>0.033042</td>\n",
       "    </tr>\n",
       "  </tbody>\n",
       "</table>\n",
       "</div>"
      ],
      "text/plain": [
       "           country  year  hectaresarablelandperperson\n",
       "1           Canada  1990                     1.637365\n",
       "12          Canada  2015                     1.216951\n",
       "10   United States  1990                     0.743826\n",
       "21   United States  2015                     0.474491\n",
       "11          Brazil  2015                     0.388504\n",
       "0           Brazil  1990                     0.339339\n",
       "4           France  1990                     0.303947\n",
       "15          France  2015                     0.277358\n",
       "9         Pakistan  1990                     0.276285\n",
       "6            India  1990                     0.187855\n",
       "20        Pakistan  2015                     0.160735\n",
       "7            Italy  1990                     0.158888\n",
       "3          Germany  1990                     0.150706\n",
       "14         Germany  2015                     0.145054\n",
       "17           India  2015                     0.119524\n",
       "5   United Kingdom  1990                     0.115638\n",
       "2            China  1990                     0.109057\n",
       "18           Italy  2015                     0.108693\n",
       "16  United Kingdom  2015                     0.092294\n",
       "13           China  2015                     0.086784\n",
       "8            Japan  1990                     0.038596\n",
       "19           Japan  2015                     0.033042"
      ]
     },
     "execution_count": 74,
     "metadata": {},
     "output_type": "execute_result"
    }
   ],
   "source": [
    "graph2().head(50)"
   ]
  }
 ],
 "metadata": {
  "kernelspec": {
   "display_name": "Python 3",
   "language": "python",
   "name": "python3"
  },
  "language_info": {
   "codemirror_mode": {
    "name": "ipython",
    "version": 3
   },
   "file_extension": ".py",
   "mimetype": "text/x-python",
   "name": "python",
   "nbconvert_exporter": "python",
   "pygments_lexer": "ipython3",
   "version": "3.8.10"
  }
 },
 "nbformat": 4,
 "nbformat_minor": 5
}
