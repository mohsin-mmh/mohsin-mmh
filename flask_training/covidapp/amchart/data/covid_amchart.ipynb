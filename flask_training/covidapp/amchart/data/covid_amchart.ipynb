{
 "cells": [
  {
   "cell_type": "markdown",
   "metadata": {},
   "source": [
    "# Covid-19 Tracker"
   ]
  },
  {
   "cell_type": "markdown",
   "metadata": {},
   "source": [
    "Aim to collect the Covid-19 total cases per country since January-2020 upto now and show the Top 10 Countries on day to day basis."
   ]
  },
  {
   "cell_type": "code",
   "execution_count": 3,
   "metadata": {},
   "outputs": [
    {
     "name": "stdout",
     "output_type": "stream",
     "text": [
      "Using matplotlib backend: Qt5Agg\n"
     ]
    }
   ],
   "source": [
    "# Import the necessary libraries to get the data and to build the graphical representation\n",
    "import pandas as pd\n",
    "import numpy as np\n",
    "import json as js\n",
    "import matplotlib.pyplot as plt\n",
    "%matplotlib\n",
    "import datetime\n",
    "\n",
    "# Get the data from the CSV file\n",
    "#df = pd.read_csv('owid-covid-data.csv')\n",
    "\n",
    "def cleandata(dataset, keepcolumns):\n",
    "    df = pd.read_csv(dataset)\n",
    "    df = df[keepcolumns]\n",
    "    #df['date'] = df['date'].astype('datetime64[ns]').dt.date\n",
    "    non_countries = ['World', 'Europe', 'North America', 'South America', 'Asia', 'European Union', 'Africa']\n",
    "    df = df[~df['location'].isin(non_countries)]\n",
    "    return df"
   ]
  },
  {
   "cell_type": "code",
   "execution_count": 25,
   "metadata": {
    "scrolled": true
   },
   "outputs": [],
   "source": [
    "def date_list():\n",
    "    covid_df = cleandata('owid-covid-data.csv', ['location', 'date'])\n",
    "    covid_dates = covid_df.date.unique().tolist()\n",
    "    return covid_dates"
   ]
  },
  {
   "cell_type": "code",
   "execution_count": 2,
   "metadata": {},
   "outputs": [],
   "source": [
    "def graph1(date):\n",
    "    covid_df = cleandata('owid-covid-data.csv',['location', 'date', 'total_cases'])\n",
    "    covid_df = covid_df[covid_df.date == date]\n",
    "    #covid_df.sort_values('total_cases', ascending=False, inplace=True)\n",
    "    #covid_df = covid_df[[\"location\", \"total_cases\"]]\n",
    "    #covid_df = covid_df.nlargest(20,'total_cases')\n",
    "    #covid_df = covid_df.to_dict(orient='records')\n",
    "    #json_df = js.loads(covid_df)\n",
    "    covid_dtype = covid_df.dtypes\n",
    "    return covid_dtype"
   ]
  },
  {
   "cell_type": "code",
   "execution_count": 4,
   "metadata": {},
   "outputs": [
    {
     "data": {
      "text/plain": [
       "(197, 3)"
      ]
     },
     "execution_count": 4,
     "metadata": {},
     "output_type": "execute_result"
    }
   ],
   "source": [
    "#def graph2():\n",
    "date = '2021-02-08'\n",
    "covid_df = cleandata('owid-covid-data.csv',['location', 'date', 'new_cases'])\n",
    "covid_df = covid_df[covid_df.date == date]\n",
    "covid_df.sort_values('new_cases', ascending=False, inplace=True)\n",
    "#covid_df = covid_df.nlargest(20,'new_cases')\n",
    "#covid_df = covid_df.to_json(orient='records')\n",
    "shape = covid_df.shape\n",
    "#json_df = js.loads(covid_df)\n",
    "shape"
   ]
  },
  {
   "cell_type": "code",
   "execution_count": 54,
   "metadata": {},
   "outputs": [],
   "source": [
    "def graph3(date):\n",
    "    covid_df = cleandata('owid-covid-data.csv',['location', 'date','total_deaths'])\n",
    "    covid_df = covid_df[covid_df.date == date]\n",
    "    covid_df.sort_values('total_deaths', ascending=False, inplace=True)    \n",
    "    x = covid_df.location.tolist()\n",
    "    y = covid_df.total_deaths.tolist()\n",
    "    merged_list = [(x[i], y[i]) for i in range(0, len(x))]\n",
    "    return merged_list[0:10]"
   ]
  },
  {
   "cell_type": "code",
   "execution_count": 55,
   "metadata": {},
   "outputs": [],
   "source": [
    "def graph4(date):\n",
    "    covid_df = cleandata('owid-covid-data.csv',['location', 'date', 'new_deaths'])\n",
    "    covid_df = covid_df[covid_df.date == date]\n",
    "    covid_df.sort_values('new_deaths', ascending=False, inplace=True)\n",
    "    x = covid_df.location.tolist()\n",
    "    y = covid_df.new_deaths.tolist()\n",
    "    merged_list = [(x[i], y[i]) for i in range(0, len(x))]\n",
    "    return merged_list[0:10]"
   ]
  },
  {
   "cell_type": "code",
   "execution_count": 3,
   "metadata": {},
   "outputs": [
    {
     "data": {
      "text/plain": [
       "location        object\n",
       "date            object\n",
       "total_cases    float64\n",
       "dtype: object"
      ]
     },
     "execution_count": 3,
     "metadata": {},
     "output_type": "execute_result"
    }
   ],
   "source": [
    "graph1('2020-09-23')"
   ]
  },
  {
   "cell_type": "code",
   "execution_count": null,
   "metadata": {},
   "outputs": [],
   "source": []
  },
  {
   "cell_type": "code",
   "execution_count": 6,
   "metadata": {},
   "outputs": [],
   "source": [
    "'''\n",
    "covid_pivot = covid_df[covid_df.date == '2020-09-14'].pivot_table(index=['location'], columns=['date'], values=['total_cases'])\n",
    "covid_pivot.sort_values(by='total_cases', ascending=False)\n",
    "covid_df.sort_values(by='total_cases', ascending=False)\n",
    "covid_pivot.head(20)\n",
    "\n",
    "'''"
   ]
  },
  {
   "cell_type": "code",
   "execution_count": 5,
   "metadata": {},
   "outputs": [],
   "source": [
    "# To plot the total_cases by Countries\n",
    "\n",
    "def plot_results(ctr1, ctr2, ctr3):\n",
    "    # plot the results for Pakistan, Malaysia, and India\n",
    "    fig, ax = plt.subplots(figsize=(8,6))\n",
    "\n",
    "    covid_df[covid_df.location == ctr1].groupby('date')['total_cases'].nlargest(10).plot(x='date', y='total_cases',\n",
    "                                                                                      legend=True, ax=ax)\n",
    "    covid_df[covid_df.location == ctr2].groupby('date')['total_cases'].nlargest(10).plot(x='date', y='total_cases',\n",
    "                                                                                      legend=True, ax=ax)\n",
    "    covid_df[covid_df.location == ctr3].groupby('date')['total_cases'].nlargest(10).plot(x='date', y= 'total_cases',\n",
    "                                                                                      legend=True, ax=ax)\n",
    "    ax.legend(labels=[ctr1, ctr2, ctr3])\n",
    "    \n",
    "    \n",
    "plot_results('Malaysia', 'Pakistan', 'India')"
   ]
  }
 ],
 "metadata": {
  "kernelspec": {
   "display_name": "Python 3",
   "language": "python",
   "name": "python3"
  },
  "language_info": {
   "codemirror_mode": {
    "name": "ipython",
    "version": 3
   },
   "file_extension": ".py",
   "mimetype": "text/x-python",
   "name": "python",
   "nbconvert_exporter": "python",
   "pygments_lexer": "ipython3",
   "version": "3.7.7"
  }
 },
 "nbformat": 4,
 "nbformat_minor": 4
}
