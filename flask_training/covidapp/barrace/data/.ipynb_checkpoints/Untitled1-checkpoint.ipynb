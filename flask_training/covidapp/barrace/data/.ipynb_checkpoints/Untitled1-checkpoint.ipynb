{
 "cells": [
  {
   "cell_type": "code",
   "execution_count": 1,
   "metadata": {},
   "outputs": [],
   "source": [
    "import pandas as pd\n",
    "\n",
    "def data_wrangling():\n",
    "    df = pd.read_csv('API_SP.RUR.TOTL.ZS_DS2_en_csv_v2_9948275.csv', skiprows=4)\n",
    "\n",
    "    # Filter for 1990 and 2015, top 10 economies\n",
    "    df = df[['Country Name','1990', '2015']]\n",
    "    countrylist = ['United States', 'China', 'Japan', 'Germany', 'United Kingdom', 'India', 'France', 'Brazil', 'Italy', 'Canada']\n",
    "    df = df[df['Country Name'].isin(countrylist)]\n",
    "\n",
    "    # melt year columns  and convert year to date time\n",
    "    df_melt = df.melt(id_vars='Country Name', value_vars = ['1990', '2015'])\n",
    "    df_melt.columns = ['country','year', 'variable']\n",
    "    df_melt['year'] = df_melt['year'].astype('datetime64[ns]').dt.year\n",
    "\n",
    "    # add column names\n",
    "    df_melt.columns = ['country', 'year', 'percentrural']\n",
    "\n",
    "    # prepare data into x, y lists for plotting\n",
    "    df_melt.sort_values('percentrural', ascending=False, inplace=True)\n",
    "\n",
    "    data = []\n",
    "    for country in countrylist:\n",
    "        x_val = df_melt[df_melt['country'] == country].year.tolist()\n",
    "        y_val =  df_melt[df_melt['country'] == country].percentrural.tolist()\n",
    "        data.append((country, x_val, y_val))\n",
    "        \n",
    "    return data\n",
    "\n",
    "data1 = data_wrangling()"
   ]
  },
  {
   "cell_type": "code",
   "execution_count": 32,
   "metadata": {},
   "outputs": [
    {
     "name": "stdout",
     "output_type": "stream",
     "text": [
      "['United States', 'China', 'Japan', 'Germany', 'United Kingdom', 'India', 'France', 'Brazil', 'Italy', 'Canada']\n",
      "[[1990, 2015], [1990, 2015], [1990, 2015], [1990, 2015], [1990, 2015], [1990, 2015], [1990, 2015], [1990, 2015], [1990, 2015], [1990, 2015]]\n",
      "[[24.7, 18.383], [73.558, 44.386], [22.660999999999998, 6.502000000000001], [26.881999999999998, 24.699], [21.86, 17.408], [74.453, 67.253], [25.944000000000003, 20.48], [26.078000000000003, 14.312999999999999], [33.274, 31.035999999999998], [23.418000000000003, 18.172]]\n"
     ]
    }
   ],
   "source": [
    "country = [row[0] for row in data1]\n",
    "print(country)\n",
    "xs = [row[1] for row in data1]\n",
    "print(xs)\n",
    "ys = [row[2] for row in data1]\n",
    "print(ys)\n",
    "        "
   ]
  }
 ],
 "metadata": {
  "kernelspec": {
   "display_name": "Python 3",
   "language": "python",
   "name": "python3"
  },
  "language_info": {
   "codemirror_mode": {
    "name": "ipython",
    "version": 3
   },
   "file_extension": ".py",
   "mimetype": "text/x-python",
   "name": "python",
   "nbconvert_exporter": "python",
   "pygments_lexer": "ipython3",
   "version": "3.7.7"
  }
 },
 "nbformat": 4,
 "nbformat_minor": 4
}
