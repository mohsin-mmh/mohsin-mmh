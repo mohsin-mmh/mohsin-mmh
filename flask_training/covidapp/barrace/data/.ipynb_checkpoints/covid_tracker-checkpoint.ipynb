{
 "cells": [
  {
   "cell_type": "markdown",
   "metadata": {},
   "source": [
    "# Covid-19 Tracker"
   ]
  },
  {
   "cell_type": "markdown",
   "metadata": {},
   "source": [
    "Aim to collect the Covid-19 total cases per country since January-2020 upto now and show the Top 10 Countries on day to day basis."
   ]
  },
  {
   "cell_type": "code",
   "execution_count": 1,
   "metadata": {},
   "outputs": [
    {
     "name": "stdout",
     "output_type": "stream",
     "text": [
      "Using matplotlib backend: Qt5Agg\n"
     ]
    }
   ],
   "source": [
    "# Import the necessary libraries to get the data and to build the graphical representation\n",
    "import pandas as pd\n",
    "import numpy as np\n",
    "import matplotlib.pyplot as plt\n",
    "%matplotlib\n",
    "import datetime\n",
    "\n",
    "# Get the data from the CSV file\n",
    "df = pd.read_csv('owid-covid-data.csv')"
   ]
  },
  {
   "cell_type": "code",
   "execution_count": 2,
   "metadata": {},
   "outputs": [
    {
     "name": "stderr",
     "output_type": "stream",
     "text": [
      "C:\\Users\\Muhammad Mohsin\\Anaconda3\\envs\\Data_Science\\lib\\site-packages\\ipykernel_launcher.py:3: SettingWithCopyWarning: \n",
      "A value is trying to be set on a copy of a slice from a DataFrame.\n",
      "Try using .loc[row_indexer,col_indexer] = value instead\n",
      "\n",
      "See the caveats in the documentation: https://pandas.pydata.org/pandas-docs/stable/user_guide/indexing.html#returning-a-view-versus-a-copy\n",
      "  This is separate from the ipykernel package so we can avoid doing imports until\n"
     ]
    }
   ],
   "source": [
    "# Crop the data to limit the columns needed which help to increase the performance\n",
    "covid_df = df[['iso_code', 'continent', 'location', 'date', 'total_cases']]\n",
    "covid_df['date'] = pd.to_datetime(covid_df['date'], format='%Y-%m-%d', utc=True)\n",
    "#covid_df['date'] = datetime.datetime.strftime(covid_df.date, '%Y-%m-%d').inplace=True\n",
    "\n",
    "# Drop the Outliar entries from the data which could misqueue the data\n",
    "non_countries = ['World', 'Europe', 'North America', 'South America', 'Asia', 'European Union', 'Africa']\n",
    "\n",
    "'''\n",
    "df_drop = covid_df[\n",
    "    (covid_df.location == 'World') | \n",
    "    (covid_df.location == 'Europe') | \n",
    "    (covid_df.location == 'North America') |\n",
    "    (covid_df.location == 'South America') |\n",
    "    (covid_df.location == 'Asia') |\n",
    "    (covid_df.location == 'European Union')\n",
    "    ].index\n",
    "\n",
    "#covid_df.drop(df_drop, inplace=True)\n",
    "'''\n",
    "covid_df = covid_df[~covid_df['location'].isin(non_countries)]"
   ]
  },
  {
   "cell_type": "code",
   "execution_count": 3,
   "metadata": {
    "scrolled": true
   },
   "outputs": [],
   "source": [
    "#x = covid_df.groupby(['location'])['total_cases'].sum()\n",
    "#x = covid_df['date' == '2021-01-30']\n",
    "#y = covid_df['total_cases']\n",
    "\n",
    "\n",
    "def covid(dates):\n",
    "    #dates = input(\"Enter date in YYYY-MM-DD format\")\n",
    "    #year, month, day = map(int, dates.split('-'))\n",
    "    #dates = datetime.date(year, month, day)\n",
    "    covid_pivot = covid_df[covid_df.date == dates].groupby('location')['total_cases'].sum().nlargest(10).plot(x='location', \n",
    "                                                                                    y='total_cases',title ='Total Covid Cases')\n",
    "    covid_pivot.set_xlabel('Country')\n",
    "    covid_pivot.set_ylabel('Total Cases')\n",
    "    plt.show()\n",
    "    return covid_pivot"
   ]
  },
  {
   "cell_type": "code",
   "execution_count": 4,
   "metadata": {},
   "outputs": [
    {
     "data": {
      "text/plain": [
       "<matplotlib.axes._subplots.AxesSubplot at 0x2b91aa54988>"
      ]
     },
     "execution_count": 4,
     "metadata": {},
     "output_type": "execute_result"
    }
   ],
   "source": [
    "covid('2021-01-21')"
   ]
  },
  {
   "cell_type": "code",
   "execution_count": 48,
   "metadata": {},
   "outputs": [
    {
     "name": "stdout",
     "output_type": "stream",
     "text": [
      "2020-03-21 00:00:00+00:00\n",
      "2020-03-22 00:00:00+00:00\n",
      "2020-03-23 00:00:00+00:00\n",
      "2020-03-24 00:00:00+00:00\n",
      "2020-03-25 00:00:00+00:00\n",
      "2020-03-26 00:00:00+00:00\n",
      "2020-03-27 00:00:00+00:00\n",
      "2020-03-28 00:00:00+00:00\n",
      "2020-03-29 00:00:00+00:00\n",
      "2020-03-30 00:00:00+00:00\n",
      "2020-03-31 00:00:00+00:00\n",
      "2020-04-01 00:00:00+00:00\n",
      "2020-04-02 00:00:00+00:00\n",
      "2020-04-03 00:00:00+00:00\n",
      "2020-04-04 00:00:00+00:00\n"
     ]
    }
   ],
   "source": [
    "#plt.bar(x, y)\n",
    "#plt.bar(x[:20], y)\n",
    "#x[:20].plot(kind='bar')\n",
    "#start_date = ('2021-01-01', format='%Y-%m-%d')\n",
    "#end_date = datetime.datetime('2021-01-03', format='%Y-%m-%d')\n",
    "\n",
    "start_date = pd.to_datetime('2020-03-21', utc=True)\n",
    "end_date = pd.to_datetime('2020-04-04', utc=True)\n",
    "\n",
    "while start_date <= end_date:\n",
    "    print(start_date)\n",
    "    covid(start_date)\n",
    "    start_date += datetime.timedelta(days=1)\n"
   ]
  },
  {
   "cell_type": "code",
   "execution_count": 6,
   "metadata": {},
   "outputs": [],
   "source": [
    "#covid_pivot = covid_df[covid_df.date == '2020-09-14'].pivot_table(index=['location'], columns=['date'], values=['total_cases'])\n",
    "#covid_pivot.sort_values(by='total_cases', ascending=False)\n",
    "#covid_df.sort_values(by='total_cases', ascending=False)\n",
    "#covid_pivot.head(20)"
   ]
  },
  {
   "cell_type": "code",
   "execution_count": 5,
   "metadata": {},
   "outputs": [],
   "source": [
    "# To plot the total_cases by Countries\n",
    "\n",
    "def plot_results(ctr1, ctr2, ctr3):\n",
    "    # plot the results for Pakistan, Malaysia, and India\n",
    "    fig, ax = plt.subplots(figsize=(8,6))\n",
    "\n",
    "    covid_df[covid_df.location == ctr1].groupby('date')['total_cases'].nlargest(10).plot(x='date', y='total_cases',\n",
    "                                                                                      legend=True, ax=ax)\n",
    "    covid_df[covid_df.location == ctr2].groupby('date')['total_cases'].nlargest(10).plot(x='date', y='total_cases',\n",
    "                                                                                      legend=True, ax=ax)\n",
    "    covid_df[covid_df.location == ctr3].groupby('date')['total_cases'].nlargest(10).plot(x='date', y= 'total_cases',\n",
    "                                                                                      legend=True, ax=ax)\n",
    "    ax.legend(labels=[ctr1, ctr2, ctr3])\n",
    "    \n",
    "    \n",
    "plot_results('Malaysia', 'Pakistan', 'India')"
   ]
  }
 ],
 "metadata": {
  "kernelspec": {
   "display_name": "Python 3",
   "language": "python",
   "name": "python3"
  },
  "language_info": {
   "codemirror_mode": {
    "name": "ipython",
    "version": 3
   },
   "file_extension": ".py",
   "mimetype": "text/x-python",
   "name": "python",
   "nbconvert_exporter": "python",
   "pygments_lexer": "ipython3",
   "version": "3.7.7"
  }
 },
 "nbformat": 4,
 "nbformat_minor": 4
}
