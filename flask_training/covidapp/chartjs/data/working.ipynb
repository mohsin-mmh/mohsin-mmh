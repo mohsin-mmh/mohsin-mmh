{
 "cells": [
  {
   "cell_type": "code",
   "execution_count": 6,
   "metadata": {},
   "outputs": [],
   "source": [
    "import pandas as pd\n",
    "import plotly.graph_objs as go\n",
    "\n",
    "def cleandata(dataset, keepcolumns = ['Country Name', '1990', '2015'], value_variables = ['1990', '2015']):\n",
    "    \"\"\"Clean world bank data for a visualizaiton dashboard\n",
    "\n",
    "    Keeps data range of dates in keep_columns variable and data for the top 10 economies\n",
    "    Reorients the columns into a year, country and value\n",
    "    Saves the results to a csv file\n",
    "\n",
    "    Args:\n",
    "        dataset (str): name of the csv data file\n",
    "\n",
    "    Returns:\n",
    "        None\n",
    "\n",
    "    \"\"\"    \n",
    "    df = pd.read_csv(dataset, skiprows=4)\n",
    "\n",
    "    # Keep only the columns of interest (years and country name)\n",
    "    df = df[keepcolumns]\n",
    "\n",
    "     \n",
    "\n",
    "    # melt year columns  and convert year to date time\n",
    "    df_melt = df.melt(id_vars='Country Name', value_vars = value_variables)\n",
    "    df_melt.columns = ['country','year', 'variable']\n",
    "    df_melt['year'] = df_melt['year'].astype('datetime64[ns]').dt.year\n",
    "\n",
    "    # output clean csv file\n",
    "    return df_melt\n",
    "\n",
    "df = cleandata('API_AG.LND.ARBL.HA.PC_DS2_en_csv_v2.csv')\n",
    "df.columns = ['country','year','hectaresarablelandperperson']\n",
    "df.sort_values('hectaresarablelandperperson', ascending=False, inplace=True)\n",
    "countrylist = df.country.unique().tolist()\n",
    "\n",
    "records = df.to_records(index=False)\n",
    "\n",
    "def returnresults():\n",
    "    result = list(records)\n",
    "    return result"
   ]
  },
  {
   "cell_type": "code",
   "execution_count": 7,
   "metadata": {},
   "outputs": [
    {
     "name": "stdout",
     "output_type": "stream",
     "text": [
      "[('Canada', 1990, 1.63736461), ('Canada', 2015, 1.21695065), ('United States', 1990, 0.74382569), ('United States', 2015, 0.47449082), ('Brazil', 2015, 0.3885035), ('Brazil', 1990, 0.33933895), ('France', 1990, 0.30394713), ('France', 2015, 0.27735773), ('India', 1990, 0.18785509), ('Italy', 1990, 0.15888788), ('Germany', 1990, 0.15070557), ('Germany', 2015, 0.14505437), ('India', 2015, 0.11952372), ('United Kingdom', 1990, 0.11563806), ('China', 1990, 0.10905711), ('Italy', 2015, 0.10869318), ('United Kingdom', 2015, 0.09229395), ('China', 2015, 0.08678403), ('Japan', 1990, 0.03859572), ('Japan', 2015, 0.03304206)]\n"
     ]
    }
   ],
   "source": [
    "result = list(records)\n",
    "print(result)"
   ]
  }
 ],
 "metadata": {
  "kernelspec": {
   "display_name": "Python 3",
   "language": "python",
   "name": "python3"
  },
  "language_info": {
   "codemirror_mode": {
    "name": "ipython",
    "version": 3
   },
   "file_extension": ".py",
   "mimetype": "text/x-python",
   "name": "python",
   "nbconvert_exporter": "python",
   "pygments_lexer": "ipython3",
   "version": "3.7.7"
  }
 },
 "nbformat": 4,
 "nbformat_minor": 5
}
