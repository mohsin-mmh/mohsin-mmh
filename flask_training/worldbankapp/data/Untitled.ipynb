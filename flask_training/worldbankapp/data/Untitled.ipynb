{
 "cells": [
  {
   "cell_type": "code",
   "execution_count": 103,
   "metadata": {},
   "outputs": [],
   "source": [
    "import pandas as pd\n",
    "import plotly.graph_objs as go\n",
    "\n",
    "def cleandata(dataset, keepcolumns = ['Country Name', '1990', '2015'], value_variables = ['1990', '2015']):\n",
    "    \"\"\"Clean world bank data for a visualizaiton dashboard\n",
    "\n",
    "    Keeps data range of dates in keep_columns variable and data for the top 10 economies\n",
    "    Reorients the columns into a year, country and value\n",
    "    Saves the results to a csv file\n",
    "\n",
    "    Args:\n",
    "        dataset (str): name of the csv data file\n",
    "\n",
    "    Returns:\n",
    "        None\n",
    "\n",
    "    \"\"\"    \n",
    "    df = pd.read_csv(dataset, skiprows=4)\n",
    "\n",
    "    # Keep only the columns of interest (years and country name)\n",
    "    df = df[keepcolumns]\n",
    "\n",
    "    top10country = ['United States', 'China', 'Japan', 'Germany', 'United Kingdom', 'India', 'France', 'Brazil', 'Italy', 'Canada']\n",
    "    df = df[df['Country Name'].isin(top10country)]\n",
    "\n",
    "    # melt year columns  and convert year to date time\n",
    "    df_melt = df.melt(id_vars='Country Name', value_vars = value_variables)\n",
    "    df_melt.columns = ['country','year', 'variable']\n",
    "    df_melt['year'] = df_melt['year'].astype('datetime64[ns]').dt.year\n",
    "\n",
    "    # output clean csv file\n",
    "    return df_melt"
   ]
  },
  {
   "cell_type": "code",
   "execution_count": 77,
   "metadata": {},
   "outputs": [],
   "source": [
    "def return_table():\n",
    "      df = cleandata('API_AG.LND.ARBL.HA.PC_DS2_en_csv_v2.csv')\n",
    "      df.columns = ['country','year','hectaresarablelandperperson']\n",
    "      df.sort_values('hectaresarablelandperperson', ascending=False, inplace=True)\n",
    "      countrylist = df.country.unique().tolist()\n",
    "      records = df.to_records(index=False)\n",
    "      result = list(records)\n",
    "      return result"
   ]
  },
  {
   "cell_type": "code",
   "execution_count": 113,
   "metadata": {},
   "outputs": [],
   "source": [
    "def return_graph1():\n",
    "    graph_one = []\n",
    "    df = cleandata('API_AG.LND.ARBL.HA.PC_DS2_en_csv_v2.csv')\n",
    "    df.columns = ['country','year','hectaresarablelandperperson']\n",
    "    df.sort_values('hectaresarablelandperperson', ascending=False, inplace=True)\n",
    "    countrylist = df.country.unique().tolist()\n",
    "    \n",
    "    for country in countrylist:\n",
    "        x_val = df[df['country'] == country].year.tolist()\n",
    "        y_val =  df[df['country'] == country].hectaresarablelandperperson.tolist()\n",
    "        graph_one.append(\n",
    "            go.Scatter(\n",
    "                x = x_val,\n",
    "                y = y_val,\n",
    "                mode = 'lines',\n",
    "                name = country\n",
    "                )\n",
    "            )\n",
    "        return graph_one"
   ]
  },
  {
   "cell_type": "code",
   "execution_count": 112,
   "metadata": {},
   "outputs": [
    {
     "data": {
      "text/plain": [
       "[Scatter({\n",
       "     'mode': 'lines', 'name': 'Canada', 'x': [1990, 2015], 'y': [1.63736461444353, 1.2169506503772098]\n",
       " })]"
      ]
     },
     "execution_count": 112,
     "metadata": {},
     "output_type": "execute_result"
    }
   ],
   "source": [
    "#return_table()\n",
    "return_graph1()"
   ]
  }
 ],
 "metadata": {
  "kernelspec": {
   "display_name": "Python 3",
   "language": "python",
   "name": "python3"
  },
  "language_info": {
   "codemirror_mode": {
    "name": "ipython",
    "version": 3
   },
   "file_extension": ".py",
   "mimetype": "text/x-python",
   "name": "python",
   "nbconvert_exporter": "python",
   "pygments_lexer": "ipython3",
   "version": "3.7.7"
  }
 },
 "nbformat": 4,
 "nbformat_minor": 5
}
